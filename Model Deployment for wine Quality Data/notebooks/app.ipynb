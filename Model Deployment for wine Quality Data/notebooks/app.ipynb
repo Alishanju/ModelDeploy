{
 "cells": [
  {
   "cell_type": "code",
   "execution_count": null,
   "id": "82921b7b",
   "metadata": {},
   "outputs": [
    {
     "name": "stdout",
     "output_type": "stream",
     "text": [
      " * Serving Flask app \"__main__\" (lazy loading)\n",
      " * Environment: production\n",
      "\u001b[31m   WARNING: This is a development server. Do not use it in a production deployment.\u001b[0m\n",
      "\u001b[2m   Use a production WSGI server instead.\u001b[0m\n",
      " * Debug mode: on\n"
     ]
    },
    {
     "name": "stderr",
     "output_type": "stream",
     "text": [
      " * Running on http://127.0.0.1:5000/ (Press CTRL+C to quit)\n",
      "127.0.0.1 - - [21/Jun/2022 20:15:29] \"GET / HTTP/1.1\" 200 -\n",
      "127.0.0.1 - - [21/Jun/2022 20:15:29] \"GET /static/styles.css HTTP/1.1\" 404 -\n",
      "127.0.0.1 - - [21/Jun/2022 20:15:53] \"POST /predict HTTP/1.1\" 200 -\n",
      "127.0.0.1 - - [21/Jun/2022 20:15:53] \"GET /static/styles.css HTTP/1.1\" 404 -\n",
      "127.0.0.1 - - [21/Jun/2022 20:16:51] \"POST /predict HTTP/1.1\" 200 -\n",
      "127.0.0.1 - - [21/Jun/2022 20:16:51] \"GET /static/styles.css HTTP/1.1\" 404 -\n",
      "127.0.0.1 - - [21/Jun/2022 20:17:01] \"POST /predict HTTP/1.1\" 200 -\n",
      "127.0.0.1 - - [21/Jun/2022 20:17:01] \"GET /static/styles.css HTTP/1.1\" 404 -\n",
      "127.0.0.1 - - [21/Jun/2022 20:17:09] \"POST /predict HTTP/1.1\" 200 -\n",
      "127.0.0.1 - - [21/Jun/2022 20:17:09] \"GET /static/styles.css HTTP/1.1\" 404 -\n"
     ]
    }
   ],
   "source": [
    "#import the requirements\n",
    "from flask import Flask,render_template,json,jsonify,request\n",
    "import pickle\n",
    "import numpy as np\n",
    "import requests\n",
    "\n",
    "#initialize the app\n",
    "\n",
    "app=Flask(__name__)\n",
    "#load the pickle file\n",
    "filename='model.pkl'\n",
    "loaded_model=pickle.load(open(filename,'rb'))\n",
    "\n",
    "@app.route('/',methods=['GET'])\n",
    "def home():\n",
    "    return render_template('index.html')\n",
    "\n",
    "\n",
    "@app.route('/predict',methods=['POST'])\n",
    "def predict():\n",
    "    if request.method == 'POST':\n",
    "        fixed_acidity=float(request.form['fixed_acidity'])\n",
    "        volatile_acidity=float(request.form['volatile_acidity'])\n",
    "        citric_acid=float(request.form['citric_acid'])\n",
    "        residual_sugar=float(request.form['residual_sugar'])\n",
    "        chlorides=float(request.form['chlorides'])\n",
    "        free_sulphur_dioxide=float(request.form['free_sulphur_dioxide'])\n",
    "        total_sulphur_dioxide=float(request.form['total_sulphur_dioxide'])\n",
    "        density=float(request.form['density'])\n",
    "        ph=float(request.form['ph'])\n",
    "        sulphates=float(request.form['sulphates'])\n",
    "        alcohol=float(request.form['alcohol'])\n",
    "        \n",
    "        data=np.array([[fixed_acidity,volatile_acidity,citric_acid,residual_sugar,\n",
    "                        chlorides,free_sulphur_dioxide,\n",
    "                        total_sulphur_dioxide,density,ph,sulphates,alcohol]])\n",
    "        my_prediction=loaded_model.predict(data)\n",
    "        \n",
    "        return render_template('result.html',prediction=my_prediction)\n",
    "\n",
    "\n",
    "if __name__ == '__main__':\n",
    "    app.run(debug=True,use_reloader=False)"
   ]
  },
  {
   "cell_type": "code",
   "execution_count": null,
   "id": "db26bd7c",
   "metadata": {},
   "outputs": [],
   "source": []
  }
 ],
 "metadata": {
  "kernelspec": {
   "display_name": "Python 3 (ipykernel)",
   "language": "python",
   "name": "python3"
  },
  "language_info": {
   "codemirror_mode": {
    "name": "ipython",
    "version": 3
   },
   "file_extension": ".py",
   "mimetype": "text/x-python",
   "name": "python",
   "nbconvert_exporter": "python",
   "pygments_lexer": "ipython3",
   "version": "3.9.7"
  }
 },
 "nbformat": 4,
 "nbformat_minor": 5
}
