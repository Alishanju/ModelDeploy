{
 "cells": [
  {
   "cell_type": "code",
   "execution_count": null,
   "id": "8b032b48",
   "metadata": {},
   "outputs": [],
   "source": [
    "import numpy as np\n",
    "from flask import Flask, request, render_template\n",
    "import pandas as pd\n",
    "import pickle\n",
    "\n",
    "app = Flask(__name__)\n",
    "model = pickle.load(open('model.pkl', 'rb'))\n",
    "\n",
    "@app.route('/')\n",
    "def home():\n",
    "    return render_template('index.html')\n",
    "\n",
    "@app.route('/predict',methods=['POST'])\n",
    "def predict():\n",
    "    '''\n",
    "    For rendering results on HTML GUI\n",
    "    '''\n",
    "    if request.method == 'POST':\n",
    "        fixed_acidity=float(request.form['fixed_acidity'])\n",
    "        volatile_acidity=float(request.form['volatile_acidity'])\n",
    "        citric_acid=float(request.form['citric_acid'])\n",
    "        residual_sugar=float(request.form['residual_sugar'])\n",
    "        chlorides=float(request.form['chlorides'])\n",
    "        free_sulphur_dioxide=float(request.form['free_sulphur_dioxide'])\n",
    "        total_sulphur_dioxide=float(request.form['total_sulphur_dioxide'])\n",
    "        density=float(request.form['density'])\n",
    "        ph=float(request.form['ph'])\n",
    "        sulphates=float(request.form['sulphates'])\n",
    "        alcohol=float(request.form['alcohol'])\n",
    "        #load the pickle file\n",
    "        loaded_model=pickle.load(open('model.pkl','rb'))\n",
    "        data=np.array([[fixed_acidity,volatile_acidity,citric_acid,residual_sugar,\n",
    "                        chlorides,free_sulphur_dioxide,\n",
    "                        total_sulphur_dioxide,density,ph,sulphates,alcohol]])\n",
    "        prediction=loaded_model.predict(data)\n",
    "    \n",
    "        #output = prediction[0]\n",
    "        if prediction == 0:\n",
    "            prediction_text = \"Poor Wine Quality\"\n",
    "        else :\n",
    "            prediction_text = \"Good Wine Quality\"\n",
    "\n",
    "    return render_template('index.html', result=prediction_text)\n",
    "\n",
    "\n",
    "if __name__ == \"__main__\":\n",
    "    app.run(debug=True,use_reloader=False,port=8080)"
   ]
  },
  {
   "cell_type": "code",
   "execution_count": null,
   "id": "bb7aaf27",
   "metadata": {},
   "outputs": [],
   "source": []
  }
 ],
 "metadata": {
  "kernelspec": {
   "display_name": "Python 3 (ipykernel)",
   "language": "python",
   "name": "python3"
  },
  "language_info": {
   "codemirror_mode": {
    "name": "ipython",
    "version": 3
   },
   "file_extension": ".py",
   "mimetype": "text/x-python",
   "name": "python",
   "nbconvert_exporter": "python",
   "pygments_lexer": "ipython3",
   "version": "3.9.7"
  }
 },
 "nbformat": 4,
 "nbformat_minor": 5
}
